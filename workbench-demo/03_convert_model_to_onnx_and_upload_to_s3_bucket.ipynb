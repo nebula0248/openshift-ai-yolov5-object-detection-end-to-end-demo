{
 "cells": [
  {
   "cell_type": "markdown",
   "id": "210703bb-35eb-45b6-bd9e-35498df40efb",
   "metadata": {},
   "source": [
    "# Training an object detection AI model using YOLOv5 with OpenShift Data Science (Part 3)"
   ]
  },
  {
   "cell_type": "markdown",
   "id": "6e469298-d726-4708-9148-1ff0667edf23",
   "metadata": {},
   "source": [
    "### Setting up the environment and installing suitable dependencies"
   ]
  },
  {
   "cell_type": "code",
   "execution_count": 1,
   "id": "8d3d90a6-4ada-44d3-9113-4480e4266a3b",
   "metadata": {},
   "outputs": [
    {
     "name": "stdout",
     "output_type": "stream",
     "text": [
      "\n",
      "\u001b[1m[\u001b[0m\u001b[34;49mnotice\u001b[0m\u001b[1;39;49m]\u001b[0m\u001b[39;49m A new release of pip available: \u001b[0m\u001b[31;49m22.2.2\u001b[0m\u001b[39;49m -> \u001b[0m\u001b[32;49m23.3.1\u001b[0m\n",
      "\u001b[1m[\u001b[0m\u001b[34;49mnotice\u001b[0m\u001b[1;39;49m]\u001b[0m\u001b[39;49m To update, run: \u001b[0m\u001b[32;49mpip install --upgrade pip\u001b[0m\n"
     ]
    }
   ],
   "source": [
    "!pip install -q numpy onnx onnxruntime opencv_python_headless seaborn torch torchvision"
   ]
  },
  {
   "cell_type": "markdown",
   "id": "6bb634e3-aeca-44b3-933e-f5778407b7a8",
   "metadata": {},
   "source": [
    "# Part 3: Convert the trained to ONNX format, and the upload to S3 bucket for serving"
   ]
  },
  {
   "cell_type": "markdown",
   "id": "cb6e7c4f-b696-43e8-8667-a963b5452f37",
   "metadata": {
    "tags": []
   },
   "source": [
    "### Export the model to ONNX\n",
    "- Eventually modify the image size if you selected a model with the \"6\" suffix, as image size is 1280 (and not 640)\n",
    "- Stay at opset 16 for the moment for OpenVino model server compatibility"
   ]
  },
  {
   "cell_type": "code",
   "execution_count": 2,
   "id": "48bca975-a878-49b2-aaf5-d60212473f8f",
   "metadata": {},
   "outputs": [
    {
     "name": "stdout",
     "output_type": "stream",
     "text": [
      "\u001b[34m\u001b[1mexport: \u001b[0mdata=data/coco128.yaml, weights=['yolov5n.pt'], imgsz=[640], batch_size=1, device=cpu, half=False, inplace=False, keras=False, optimize=False, int8=False, dynamic=False, simplify=False, opset=16, verbose=False, workspace=4, nms=False, agnostic_nms=False, topk_per_class=100, topk_all=100, iou_thres=0.45, conf_thres=0.25, include=['onnx']\n",
      "YOLOv5 🚀 2023-11-7 Python-3.9.16 torch-1.13.1+cu117 CPU\n",
      "\n",
      "Fusing layers... \n",
      "YOLOv5n summary: 213 layers, 1867405 parameters, 0 gradients\n",
      "\n",
      "\u001b[34m\u001b[1mPyTorch:\u001b[0m starting from yolov5n.pt with output shape (1, 25200, 85) (3.9 MB)\n",
      "\n",
      "\u001b[34m\u001b[1mONNX:\u001b[0m starting export with onnx 1.15.0...\n",
      "\u001b[34m\u001b[1mONNX:\u001b[0m export success ✅ 0.8s, saved as yolov5n.onnx (7.6 MB)\n",
      "\n",
      "Export complete (1.2s)\n",
      "Results saved to \u001b[1m/opt/app-root/src/yolov5-object-detection-end-to-end-demo/workbench-demo\u001b[0m\n",
      "Detect:          python detect.py --weights yolov5n.onnx \n",
      "Validate:        python val.py --weights yolov5n.onnx \n",
      "PyTorch Hub:     model = torch.hub.load('ultralytics/yolov5', 'custom', 'yolov5n.onnx')  \n",
      "Visualize:       https://netron.app\n"
     ]
    }
   ],
   "source": [
    "!python export.py --weights yolov5n.pt --include onnx --imgsz 640 --opset 16"
   ]
  },
  {
   "cell_type": "markdown",
   "id": "a7158490-cfa9-4f95-ae5b-4cf216acd4e6",
   "metadata": {},
   "source": [
    "### Save the ONNX model to where your OpenShift Data Science project data connection points to (which is an S3 bucket)"
   ]
  },
  {
   "cell_type": "code",
   "execution_count": 3,
   "id": "aef1e4ee-b46f-418a-b9c6-501f0c0424fe",
   "metadata": {},
   "outputs": [],
   "source": [
    "import helper_functions as helper\n",
    "import os\n",
    "from datetime import datetime"
   ]
  },
  {
   "cell_type": "code",
   "execution_count": 4,
   "id": "45556d40-d0db-4e51-beeb-2d306b77e642",
   "metadata": {},
   "outputs": [
    {
     "name": "stdout",
     "output_type": "stream",
     "text": [
      "2023-11-07-UTC12-51-26\n"
     ]
    }
   ],
   "source": [
    "now = datetime.now() # Get current datetime\n",
    "date_string = now.strftime(\"%Y-%m-%d-UTC%H-%M-%S\") # Convert datetime object to string\n",
    "print(date_string)"
   ]
  },
  {
   "cell_type": "code",
   "execution_count": 5,
   "id": "441c1e6e-22bc-461d-87d4-751504e6d6b1",
   "metadata": {},
   "outputs": [
    {
     "name": "stdout",
     "output_type": "stream",
     "text": [
      "File uploaded successfully\n"
     ]
    },
    {
     "data": {
      "text/plain": [
       "True"
      ]
     },
     "execution_count": 5,
     "metadata": {},
     "output_type": "execute_result"
    }
   ],
   "source": [
    "helper.upload_to_s3(\n",
    "    endpoint_url=os.environ['AWS_S3_ENDPOINT'],\n",
    "    access_key_id=os.environ['AWS_ACCESS_KEY_ID'],\n",
    "    secret_key=os.environ['AWS_SECRET_ACCESS_KEY'],\n",
    "    file_name='./yolov5n.onnx',\n",
    "    bucket=os.environ['AWS_S3_BUCKET'],\n",
    "    object_name='yolov5n-' + date_string + '.onnx')"
   ]
  },
  {
   "cell_type": "code",
   "execution_count": null,
   "id": "6a4a6dfc-137f-4b36-ab60-ee3fed0bf106",
   "metadata": {},
   "outputs": [],
   "source": []
  }
 ],
 "metadata": {
  "kernelspec": {
   "display_name": "Python 3 (ipykernel)",
   "language": "python",
   "name": "python3"
  },
  "language_info": {
   "codemirror_mode": {
    "name": "ipython",
    "version": 3
   },
   "file_extension": ".py",
   "mimetype": "text/x-python",
   "name": "python",
   "nbconvert_exporter": "python",
   "pygments_lexer": "ipython3",
   "version": "3.9.16"
  }
 },
 "nbformat": 4,
 "nbformat_minor": 5
}
